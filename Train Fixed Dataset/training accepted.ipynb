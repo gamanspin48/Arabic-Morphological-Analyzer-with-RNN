{
 "cells": [
  {
   "cell_type": "code",
   "execution_count": 20,
   "metadata": {},
   "outputs": [],
   "source": [
    "from keras.models import Sequential\n",
    "from keras.layers import SimpleRNN\n",
    "from keras.layers import Dense\n",
    "from keras.layers import Embedding, SpatialDropout1D"
   ]
  },
  {
   "cell_type": "code",
   "execution_count": 21,
   "metadata": {},
   "outputs": [
    {
     "data": {
      "text/plain": [
       "(24748, 12)"
      ]
     },
     "execution_count": 21,
     "metadata": {},
     "output_type": "execute_result"
    }
   ],
   "source": [
    "import pandas as pd\n",
    "import numpy as np\n",
    "data_input = pd.ExcelFile('data training vector.xlsx').parse(0)\n",
    "X_data = data_input.X.to_numpy()\n",
    "y_train = data_input.y.to_numpy()\n",
    "X = []\n",
    "for i in range(0,len(X_data)):\n",
    "    X.append(np.fromstring(X_data[i],sep=' '))\n",
    "X_train = np.asarray(X)\n",
    "X_train.shape"
   ]
  },
  {
   "cell_type": "code",
   "execution_count": 22,
   "metadata": {},
   "outputs": [
    {
     "data": {
      "text/plain": [
       "(6188, 12)"
      ]
     },
     "execution_count": 22,
     "metadata": {},
     "output_type": "execute_result"
    }
   ],
   "source": [
    "import pandas as pd\n",
    "import numpy as np\n",
    "data_input = pd.ExcelFile('data testing vector.xlsx').parse(0)\n",
    "X_data = data_input.X.to_numpy()\n",
    "y_test = data_input.y.to_numpy()\n",
    "X = []\n",
    "for i in range(0,len(X_data)):\n",
    "    X.append(np.fromstring(X_data[i],sep=' '))\n",
    "X_test = np.asarray(X)\n",
    "X_test.shape"
   ]
  },
  {
   "cell_type": "code",
   "execution_count": 23,
   "metadata": {},
   "outputs": [
    {
     "name": "stdout",
     "output_type": "stream",
     "text": [
      "Model: \"sequential_2\"\n",
      "_________________________________________________________________\n",
      "Layer (type)                 Output Shape              Param #   \n",
      "=================================================================\n",
      "embedding_2 (Embedding)      (None, 12, 16)            2880      \n",
      "_________________________________________________________________\n",
      "simple_rnn_2 (SimpleRNN)     (None, 128)               18560     \n",
      "_________________________________________________________________\n",
      "dense_2 (Dense)              (None, 15)                1935      \n",
      "=================================================================\n",
      "Total params: 23,375\n",
      "Trainable params: 23,375\n",
      "Non-trainable params: 0\n",
      "_________________________________________________________________\n"
     ]
    }
   ],
   "source": [
    " model = Sequential([\n",
    "    \n",
    "    Embedding(input_dim=180, output_dim=16, input_length=12), # embedding\n",
    "\n",
    "    SimpleRNN(128), # rnn\n",
    "\n",
    "    Dense(15,activation='softmax')  # dense\n",
    "    ])\n",
    "model.summary()"
   ]
  },
  {
   "cell_type": "code",
   "execution_count": 24,
   "metadata": {},
   "outputs": [
    {
     "name": "stdout",
     "output_type": "stream",
     "text": [
      "Epoch 1/50\n",
      "97/97 - 2s - loss: 1.3179 - accuracy: 0.5712\n",
      "Epoch 2/50\n",
      "97/97 - 1s - loss: 0.5509 - accuracy: 0.8049\n",
      "Epoch 3/50\n",
      "97/97 - 1s - loss: 0.4192 - accuracy: 0.8503\n",
      "Epoch 4/50\n",
      "97/97 - 1s - loss: 0.3492 - accuracy: 0.8750\n",
      "Epoch 5/50\n",
      "97/97 - 1s - loss: 0.2945 - accuracy: 0.8962\n",
      "Epoch 6/50\n",
      "97/97 - 1s - loss: 0.2658 - accuracy: 0.9057\n",
      "Epoch 7/50\n",
      "97/97 - 1s - loss: 0.2386 - accuracy: 0.9162\n",
      "Epoch 8/50\n",
      "97/97 - 1s - loss: 0.2020 - accuracy: 0.9315\n",
      "Epoch 9/50\n",
      "97/97 - 1s - loss: 0.1778 - accuracy: 0.9388\n",
      "Epoch 10/50\n",
      "97/97 - 1s - loss: 0.1562 - accuracy: 0.9484\n",
      "Epoch 11/50\n",
      "97/97 - 1s - loss: 0.1312 - accuracy: 0.9587\n",
      "Epoch 12/50\n",
      "97/97 - 1s - loss: 0.1158 - accuracy: 0.9631\n",
      "Epoch 13/50\n",
      "97/97 - 1s - loss: 0.1025 - accuracy: 0.9681\n",
      "Epoch 14/50\n",
      "97/97 - 1s - loss: 0.0894 - accuracy: 0.9732\n",
      "Epoch 15/50\n",
      "97/97 - 1s - loss: 0.0751 - accuracy: 0.9792\n",
      "Epoch 16/50\n",
      "97/97 - 1s - loss: 0.0687 - accuracy: 0.9804\n",
      "Epoch 17/50\n",
      "97/97 - 1s - loss: 0.0570 - accuracy: 0.9839\n",
      "Epoch 18/50\n",
      "97/97 - 1s - loss: 0.0540 - accuracy: 0.9844\n",
      "Epoch 19/50\n",
      "97/97 - 1s - loss: 0.0475 - accuracy: 0.9866\n",
      "Epoch 20/50\n",
      "97/97 - 1s - loss: 0.0363 - accuracy: 0.9907\n",
      "Epoch 21/50\n",
      "97/97 - 1s - loss: 0.0316 - accuracy: 0.9928\n",
      "Epoch 22/50\n",
      "97/97 - 1s - loss: 0.0331 - accuracy: 0.9919\n",
      "Epoch 23/50\n",
      "97/97 - 1s - loss: 0.0315 - accuracy: 0.9920\n",
      "Epoch 24/50\n",
      "97/97 - 1s - loss: 0.0281 - accuracy: 0.9928\n",
      "Epoch 25/50\n",
      "97/97 - 1s - loss: 0.0221 - accuracy: 0.9953\n",
      "Epoch 26/50\n",
      "97/97 - 1s - loss: 0.0217 - accuracy: 0.9938\n",
      "Epoch 27/50\n",
      "97/97 - 1s - loss: 0.0280 - accuracy: 0.9925\n",
      "Epoch 28/50\n",
      "97/97 - 1s - loss: 0.0174 - accuracy: 0.9962\n",
      "Epoch 29/50\n",
      "97/97 - 1s - loss: 0.0142 - accuracy: 0.9967\n",
      "Epoch 30/50\n",
      "97/97 - 1s - loss: 0.0225 - accuracy: 0.9935\n",
      "Epoch 31/50\n",
      "97/97 - 1s - loss: 0.0191 - accuracy: 0.9953\n",
      "Epoch 32/50\n",
      "97/97 - 1s - loss: 0.0121 - accuracy: 0.9972\n",
      "Epoch 33/50\n",
      "97/97 - 1s - loss: 0.0178 - accuracy: 0.9953\n",
      "Epoch 34/50\n",
      "97/97 - 1s - loss: 0.0120 - accuracy: 0.9971\n",
      "Epoch 35/50\n",
      "97/97 - 1s - loss: 0.0150 - accuracy: 0.9962\n",
      "Epoch 36/50\n",
      "97/97 - 1s - loss: 0.0147 - accuracy: 0.9964\n",
      "Epoch 37/50\n",
      "97/97 - 1s - loss: 0.0096 - accuracy: 0.9978\n",
      "Epoch 38/50\n",
      "97/97 - 1s - loss: 0.0116 - accuracy: 0.9967\n",
      "Epoch 39/50\n",
      "97/97 - 1s - loss: 0.0240 - accuracy: 0.9928\n",
      "Epoch 40/50\n",
      "97/97 - 1s - loss: 0.0318 - accuracy: 0.9905\n",
      "Epoch 41/50\n",
      "97/97 - 1s - loss: 0.0093 - accuracy: 0.9979\n",
      "Epoch 42/50\n",
      "97/97 - 1s - loss: 0.0061 - accuracy: 0.9985\n",
      "Epoch 43/50\n",
      "97/97 - 1s - loss: 0.0051 - accuracy: 0.9989\n",
      "Epoch 44/50\n",
      "97/97 - 1s - loss: 0.0043 - accuracy: 0.9991\n",
      "Epoch 45/50\n",
      "97/97 - 1s - loss: 0.0099 - accuracy: 0.9971\n",
      "Epoch 46/50\n",
      "97/97 - 1s - loss: 0.0203 - accuracy: 0.9941\n",
      "Epoch 47/50\n",
      "97/97 - 1s - loss: 0.0159 - accuracy: 0.9952\n",
      "Epoch 48/50\n",
      "97/97 - 1s - loss: 0.0046 - accuracy: 0.9991\n",
      "Epoch 49/50\n",
      "97/97 - 1s - loss: 0.0100 - accuracy: 0.9971\n",
      "Epoch 50/50\n",
      "97/97 - 1s - loss: 0.0193 - accuracy: 0.9937\n",
      "194/194 [==============================] - 1s 2ms/step - loss: 0.0204 - accuracy: 0.9937\n"
     ]
    }
   ],
   "source": [
    "model.compile(loss='sparse_categorical_crossentropy', optimizer='adam', metrics=['accuracy'])\n",
    "\n",
    "history = model.fit(X_train, y_train,epochs=50, batch_size=256, verbose=2)\n",
    "scores = model.evaluate(X_test, y_test)"
   ]
  },
  {
   "cell_type": "code",
   "execution_count": 25,
   "metadata": {},
   "outputs": [
    {
     "name": "stdout",
     "output_type": "stream",
     "text": [
      "Accuracy: 99.37%\n"
     ]
    }
   ],
   "source": [
    "print(\"Accuracy: %.2f%%\" % (scores[1]*100))\n",
    "# Menampilkan grafik accuracy dan validation accuracy"
   ]
  },
  {
   "cell_type": "code",
   "execution_count": 26,
   "metadata": {},
   "outputs": [
    {
     "data": {
      "text/plain": [
       "{'Iii': {'index': [], 'count': 0},\n",
       " '(VII) tsulatsy': {'index': [], 'count': 0},\n",
       " '(IV) tsulatsy': {'index': [], 'count': 0},\n",
       " '(III) tsulatsy': {'index': [], 'count': 0},\n",
       " '(X) tsulatsy': {'index': [], 'count': 0},\n",
       " 'Iuu': {'index': [], 'count': 0},\n",
       " '(VI) tsulatsy': {'index': [], 'count': 0},\n",
       " '(V) tsulatsy': {'index': [], 'count': 0},\n",
       " '(IX) tsulatsy': {'index': [], 'count': 0},\n",
       " 'Iaa': {'index': [], 'count': 0},\n",
       " 'Iai': {'index': [], 'count': 0},\n",
       " 'Iia': {'index': [], 'count': 0},\n",
       " \"(I) ruba'iy\": {'index': [], 'count': 0},\n",
       " '(II) tsulatsy': {'index': [], 'count': 0},\n",
       " 'Iau': {'index': [], 'count': 0}}"
      ]
     },
     "execution_count": 26,
     "metadata": {},
     "output_type": "execute_result"
    }
   ],
   "source": [
    "wazan = ['Iii',\n",
    " '(VII) tsulatsy',\n",
    " '(IV) tsulatsy',\n",
    " '(III) tsulatsy',\n",
    " '(X) tsulatsy',\n",
    " 'Iuu',\n",
    " '(VI) tsulatsy',\n",
    " '(V) tsulatsy',\n",
    " '(IX) tsulatsy',\n",
    " 'Iaa',\n",
    " 'Iai',\n",
    " 'Iia',\n",
    " \"(I) ruba'iy\",\n",
    " '(II) tsulatsy',\n",
    " 'Iau']\n",
    "predicted_word = {}\n",
    "for w in wazan:\n",
    "    predicted_word[w] = {'index':[],'count':0}\n",
    "predicted_word"
   ]
  },
  {
   "cell_type": "code",
   "execution_count": 27,
   "metadata": {},
   "outputs": [],
   "source": [
    "yhatS = []\n",
    "for i in range(0,len(X_test)):\n",
    "    yhat = model.predict(np.expand_dims(X_test[i],0))\n",
    "    yhat = np.argsort(yhat[0])[-1]\n",
    "    if (yhat == y_test[i]):\n",
    "        predicted_word[wazan[yhat]]['index'].append(i)\n",
    "        predicted_word[wazan[yhat]]['count']+=1\n",
    "    yhatS.append(yhat)"
   ]
  },
  {
   "cell_type": "code",
   "execution_count": 28,
   "metadata": {},
   "outputs": [
    {
     "name": "stdout",
     "output_type": "stream",
     "text": [
      "Iii  :  19\n",
      "(VII) tsulatsy  :  56\n",
      "(IV) tsulatsy  :  1183\n",
      "(III) tsulatsy  :  138\n",
      "(X) tsulatsy  :  237\n",
      "Iuu  :  87\n",
      "(VI) tsulatsy  :  35\n",
      "(V) tsulatsy  :  376\n",
      "(IX) tsulatsy  :  54\n",
      "Iaa  :  591\n",
      "Iai  :  763\n",
      "Iia  :  738\n",
      "(I) ruba'iy  :  38\n",
      "(II) tsulatsy  :  737\n",
      "Iau  :  1097\n"
     ]
    }
   ],
   "source": [
    "for key , value in predicted_word.items():\n",
    "    print(key,' : ',value['count'])"
   ]
  },
  {
   "cell_type": "code",
   "execution_count": 29,
   "metadata": {},
   "outputs": [
    {
     "name": "stdout",
     "output_type": "stream",
     "text": [
      "0.9936974789915967\n"
     ]
    }
   ],
   "source": [
    "from sklearn.metrics import accuracy_score, f1_score, precision_score, recall_score\n",
    "print(accuracy_score(y_test,yhatS))"
   ]
  },
  {
   "cell_type": "code",
   "execution_count": 30,
   "metadata": {},
   "outputs": [
    {
     "data": {
      "text/plain": [
       "0.9933282425064243"
      ]
     },
     "execution_count": 30,
     "metadata": {},
     "output_type": "execute_result"
    }
   ],
   "source": [
    "precision_score(y_test,yhatS,average='macro')"
   ]
  },
  {
   "cell_type": "code",
   "execution_count": 31,
   "metadata": {},
   "outputs": [
    {
     "data": {
      "text/plain": [
       "0.9688547756790279"
      ]
     },
     "execution_count": 31,
     "metadata": {},
     "output_type": "execute_result"
    }
   ],
   "source": [
    "recall_score(y_test,yhatS,average='macro')"
   ]
  },
  {
   "cell_type": "code",
   "execution_count": 32,
   "metadata": {},
   "outputs": [
    {
     "data": {
      "text/plain": [
       "0.9796179474583673"
      ]
     },
     "execution_count": 32,
     "metadata": {},
     "output_type": "execute_result"
    }
   ],
   "source": [
    "f1_score(y_test,yhatS,average='macro')"
   ]
  },
  {
   "cell_type": "code",
   "execution_count": 33,
   "metadata": {},
   "outputs": [
    {
     "data": {
      "image/png": "[encoded data removed]",
      "text/plain": [
       "<Figure size 432x288 with 1 Axes>"
      ]
     },
     "metadata": {
      "needs_background": "light"
     },
     "output_type": "display_data"
    }
   ],
   "source": [
    "from matplotlib import pyplot as plt\n",
    "plt.plot(history.history['accuracy'])\n",
    "plt.plot(history.history['loss'])\n",
    "\n",
    "# Tampilkan grafik yang telah diplot\n",
    "plt.show()"
   ]
  },
  {
   "cell_type": "code",
   "execution_count": 34,
   "metadata": {},
   "outputs": [],
   "source": [
    "model.save(\"model.h5\")"
   ]
  },
  {
   "cell_type": "code",
   "execution_count": null,
   "metadata": {},
   "outputs": [],
   "source": []
  }
 ],
 "metadata": {
  "kernelspec": {
   "display_name": "Python 3",
   "language": "python",
   "name": "python3"
  },
  "language_info": {
   "codemirror_mode": {
    "name": "ipython",
    "version": 3
   },
   "file_extension": ".py",
   "mimetype": "text/x-python",
   "name": "python",
   "nbconvert_exporter": "python",
   "pygments_lexer": "ipython3",
   "version": "3.7.9"
  }
 },
 "nbformat": 4,
 "nbformat_minor": 4
}
